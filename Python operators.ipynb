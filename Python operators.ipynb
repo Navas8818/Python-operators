{
 "cells": [
  {
   "cell_type": "code",
   "execution_count": null,
   "id": "f1e98744-b00e-4815-b9eb-a5537729328f",
   "metadata": {},
   "outputs": [],
   "source": [
    "1. Calculate the sum, difference, product, and quotient of two numbers."
   ]
  },
  {
   "cell_type": "code",
   "execution_count": 1,
   "id": "7ad72088-43b2-4756-a10c-0c29ce3365a6",
   "metadata": {},
   "outputs": [],
   "source": [
    "a = 10\n",
    "b = 5"
   ]
  },
  {
   "cell_type": "code",
   "execution_count": 2,
   "id": "e9476c85-b4aa-40a3-b56a-adaf4d5edcd0",
   "metadata": {},
   "outputs": [
    {
     "data": {
      "text/plain": [
       "15"
      ]
     },
     "execution_count": 2,
     "metadata": {},
     "output_type": "execute_result"
    }
   ],
   "source": [
    "a + b"
   ]
  },
  {
   "cell_type": "code",
   "execution_count": 3,
   "id": "3c06022e-0c27-4c22-8ca8-1bf652692ae4",
   "metadata": {},
   "outputs": [
    {
     "data": {
      "text/plain": [
       "5"
      ]
     },
     "execution_count": 3,
     "metadata": {},
     "output_type": "execute_result"
    }
   ],
   "source": [
    "a - b"
   ]
  },
  {
   "cell_type": "code",
   "execution_count": 4,
   "id": "824fd809-cd50-4a7e-8a97-0b85049a6187",
   "metadata": {},
   "outputs": [
    {
     "data": {
      "text/plain": [
       "50"
      ]
     },
     "execution_count": 4,
     "metadata": {},
     "output_type": "execute_result"
    }
   ],
   "source": [
    "a * b"
   ]
  },
  {
   "cell_type": "code",
   "execution_count": 5,
   "id": "f273135e-fce6-4b37-b2fd-da1f4c72cb6f",
   "metadata": {},
   "outputs": [
    {
     "data": {
      "text/plain": [
       "2.0"
      ]
     },
     "execution_count": 5,
     "metadata": {},
     "output_type": "execute_result"
    }
   ],
   "source": [
    "a / b"
   ]
  },
  {
   "cell_type": "markdown",
   "id": "809dce84-08fe-4289-a409-92102fc75f31",
   "metadata": {},
   "source": [
    "2. Perform various assignment operations on a variable."
   ]
  },
  {
   "cell_type": "code",
   "execution_count": 11,
   "id": "b51fb584-9843-49b4-9582-f8f5a5c06cf3",
   "metadata": {},
   "outputs": [],
   "source": [
    "a = 5\n"
   ]
  },
  {
   "cell_type": "code",
   "execution_count": 12,
   "id": "dcadaaa7-eef1-4883-a528-ab978c672750",
   "metadata": {},
   "outputs": [
    {
     "data": {
      "text/plain": [
       "5"
      ]
     },
     "execution_count": 12,
     "metadata": {},
     "output_type": "execute_result"
    }
   ],
   "source": [
    "a"
   ]
  },
  {
   "cell_type": "code",
   "execution_count": 13,
   "id": "df52f82f-b9c6-4db3-a8a8-3abb4a9032c4",
   "metadata": {},
   "outputs": [],
   "source": [
    "a += 5"
   ]
  },
  {
   "cell_type": "code",
   "execution_count": 14,
   "id": "879bce8d-71ef-479b-a6bf-1ddb11197b09",
   "metadata": {},
   "outputs": [
    {
     "data": {
      "text/plain": [
       "10"
      ]
     },
     "execution_count": 14,
     "metadata": {},
     "output_type": "execute_result"
    }
   ],
   "source": [
    "a"
   ]
  },
  {
   "cell_type": "code",
   "execution_count": 15,
   "id": "9133b2ca-c14e-4354-b8b5-02c59e94c3a9",
   "metadata": {},
   "outputs": [],
   "source": [
    "a *= 2"
   ]
  },
  {
   "cell_type": "code",
   "execution_count": 16,
   "id": "eafa07d1-4a65-46a0-a78f-d2f622614b04",
   "metadata": {},
   "outputs": [
    {
     "data": {
      "text/plain": [
       "20"
      ]
     },
     "execution_count": 16,
     "metadata": {},
     "output_type": "execute_result"
    }
   ],
   "source": [
    "a"
   ]
  },
  {
   "cell_type": "code",
   "execution_count": 17,
   "id": "112b0813-5b0e-4152-b4af-34787fc6cd83",
   "metadata": {},
   "outputs": [],
   "source": [
    "a -= 10"
   ]
  },
  {
   "cell_type": "code",
   "execution_count": 18,
   "id": "afd1943b-449e-4a2d-bfc6-86329451f638",
   "metadata": {},
   "outputs": [
    {
     "data": {
      "text/plain": [
       "10"
      ]
     },
     "execution_count": 18,
     "metadata": {},
     "output_type": "execute_result"
    }
   ],
   "source": [
    "a"
   ]
  },
  {
   "cell_type": "code",
   "execution_count": 19,
   "id": "8a6b6620-64d6-4043-a43c-b263026f625b",
   "metadata": {},
   "outputs": [],
   "source": [
    "a /= 2"
   ]
  },
  {
   "cell_type": "code",
   "execution_count": 20,
   "id": "7a313968-7c46-4447-bc68-817182204397",
   "metadata": {},
   "outputs": [
    {
     "data": {
      "text/plain": [
       "5.0"
      ]
     },
     "execution_count": 20,
     "metadata": {},
     "output_type": "execute_result"
    }
   ],
   "source": [
    "a"
   ]
  },
  {
   "cell_type": "markdown",
   "id": "e0e359e3-37bf-4ac6-a7ae-fd8245dae2d1",
   "metadata": {},
   "source": [
    "3. Compare two numbers and print the results."
   ]
  },
  {
   "cell_type": "code",
   "execution_count": 21,
   "id": "b2cdfc56-287c-427e-860c-5754236909fd",
   "metadata": {},
   "outputs": [],
   "source": [
    "a = 5\n",
    "b = 10"
   ]
  },
  {
   "cell_type": "code",
   "execution_count": 22,
   "id": "66482090-2c0d-43ef-aa54-f5ddb55775d4",
   "metadata": {},
   "outputs": [
    {
     "data": {
      "text/plain": [
       "True"
      ]
     },
     "execution_count": 22,
     "metadata": {},
     "output_type": "execute_result"
    }
   ],
   "source": [
    "a != b"
   ]
  },
  {
   "cell_type": "code",
   "execution_count": 23,
   "id": "195adfab-7c62-44dd-8bac-69f3b5698d7f",
   "metadata": {},
   "outputs": [
    {
     "name": "stdout",
     "output_type": "stream",
     "text": [
      "False\n"
     ]
    }
   ],
   "source": [
    "print(a>b)"
   ]
  },
  {
   "cell_type": "code",
   "execution_count": 24,
   "id": "2620c271-ad57-4dd2-a98a-0e62ca52f904",
   "metadata": {},
   "outputs": [
    {
     "data": {
      "text/plain": [
       "True"
      ]
     },
     "execution_count": 24,
     "metadata": {},
     "output_type": "execute_result"
    }
   ],
   "source": [
    "a <= b"
   ]
  },
  {
   "cell_type": "code",
   "execution_count": 27,
   "id": "c815fc56-7556-4d7d-ad6a-e5c01605b7ad",
   "metadata": {},
   "outputs": [
    {
     "name": "stdout",
     "output_type": "stream",
     "text": [
      "True\n"
     ]
    }
   ],
   "source": [
    "print(a<b)"
   ]
  },
  {
   "cell_type": "markdown",
   "id": "23da3dc2-2443-4d89-b364-938492706f82",
   "metadata": {},
   "source": [
    "4. Check conditions using logical operators"
   ]
  },
  {
   "cell_type": "code",
   "execution_count": 28,
   "id": "f98d0151-8a10-4579-b3bd-d3247cd3218d",
   "metadata": {},
   "outputs": [],
   "source": [
    "a = 5\n",
    "b = 10\n"
   ]
  },
  {
   "cell_type": "code",
   "execution_count": 31,
   "id": "c1fb8643-b575-4164-9cd4-4c98ebeb82d3",
   "metadata": {},
   "outputs": [],
   "source": [
    "result = a and b"
   ]
  },
  {
   "cell_type": "code",
   "execution_count": 30,
   "id": "61d733eb-9635-4980-94ca-3f3a93daba4d",
   "metadata": {},
   "outputs": [
    {
     "name": "stdout",
     "output_type": "stream",
     "text": [
      "0\n"
     ]
    }
   ],
   "source": [
    "print(result)"
   ]
  },
  {
   "cell_type": "code",
   "execution_count": 32,
   "id": "8137d7fc-a996-4f60-9cc1-ab823275e4c1",
   "metadata": {},
   "outputs": [],
   "source": [
    "result = a or b"
   ]
  },
  {
   "cell_type": "code",
   "execution_count": 33,
   "id": "acc84627-32d4-48f2-ade4-437441477959",
   "metadata": {},
   "outputs": [
    {
     "name": "stdout",
     "output_type": "stream",
     "text": [
      "5\n"
     ]
    }
   ],
   "source": [
    "print(result)"
   ]
  },
  {
   "cell_type": "code",
   "execution_count": 37,
   "id": "2ca0d420-e975-4420-af61-27f9ad24b16e",
   "metadata": {},
   "outputs": [
    {
     "name": "stdout",
     "output_type": "stream",
     "text": [
      "5\n"
     ]
    }
   ],
   "source": [
    "if a > 0 and b < 15:\n",
    "    print(result)"
   ]
  },
  {
   "cell_type": "markdown",
   "id": "112ee7d7-c7a6-4144-a41b-cc27d611fd84",
   "metadata": {},
   "source": [
    "5. check the identity of variables"
   ]
  },
  {
   "cell_type": "code",
   "execution_count": 38,
   "id": "13e731f2-fa47-477a-a191-763c54495f52",
   "metadata": {},
   "outputs": [],
   "source": [
    "a = 10\n",
    "b = \"Assignment\"\n"
   ]
  },
  {
   "cell_type": "code",
   "execution_count": 39,
   "id": "6966c9d2-85f8-44d8-82b3-84e446ce71f0",
   "metadata": {},
   "outputs": [
    {
     "data": {
      "text/plain": [
       "False"
      ]
     },
     "execution_count": 39,
     "metadata": {},
     "output_type": "execute_result"
    }
   ],
   "source": [
    "a is b"
   ]
  },
  {
   "cell_type": "code",
   "execution_count": 40,
   "id": "c63f9a91-0b7f-413c-8e47-fa82e3ac457f",
   "metadata": {},
   "outputs": [
    {
     "data": {
      "text/plain": [
       "True"
      ]
     },
     "execution_count": 40,
     "metadata": {},
     "output_type": "execute_result"
    }
   ],
   "source": [
    "a is not b"
   ]
  },
  {
   "cell_type": "code",
   "execution_count": 41,
   "id": "dbc5d470-376b-4098-85fc-4dd8b66e339a",
   "metadata": {},
   "outputs": [
    {
     "name": "stdout",
     "output_type": "stream",
     "text": [
      "False\n"
     ]
    }
   ],
   "source": [
    "print(id(a) == id(b))"
   ]
  },
  {
   "cell_type": "markdown",
   "id": "e7fe6e20-4629-47cc-85b6-d6b0779b0724",
   "metadata": {},
   "source": [
    "6. perform bitwise operations on any two integers"
   ]
  },
  {
   "cell_type": "code",
   "execution_count": 51,
   "id": "b5214bae-be29-45c5-bee4-51c62dcde508",
   "metadata": {},
   "outputs": [
    {
     "data": {
      "text/plain": [
       "0"
      ]
     },
     "execution_count": 51,
     "metadata": {},
     "output_type": "execute_result"
    }
   ],
   "source": [
    "16 & 3"
   ]
  },
  {
   "cell_type": "code",
   "execution_count": 53,
   "id": "4818af46-3676-43d6-8f0a-2bd85b40d6ed",
   "metadata": {},
   "outputs": [
    {
     "data": {
      "text/plain": [
       "'0b10000'"
      ]
     },
     "execution_count": 53,
     "metadata": {},
     "output_type": "execute_result"
    }
   ],
   "source": [
    "bin(16)"
   ]
  },
  {
   "cell_type": "code",
   "execution_count": 52,
   "id": "9aa79b72-8b89-4caa-b4c3-e5e5b8186e77",
   "metadata": {},
   "outputs": [
    {
     "data": {
      "text/plain": [
       "'0b11'"
      ]
     },
     "execution_count": 52,
     "metadata": {},
     "output_type": "execute_result"
    }
   ],
   "source": [
    "bin(3)"
   ]
  },
  {
   "cell_type": "code",
   "execution_count": 54,
   "id": "6859db96-3c63-43b2-9296-6db3f6049f08",
   "metadata": {},
   "outputs": [
    {
     "data": {
      "text/plain": [
       "'0b0'"
      ]
     },
     "execution_count": 54,
     "metadata": {},
     "output_type": "execute_result"
    }
   ],
   "source": [
    "bin(0)"
   ]
  },
  {
   "cell_type": "markdown",
   "id": "e071afca-a629-43ca-b042-7dd5ddeda6fc",
   "metadata": {},
   "source": [
    "7. Use unary operators to change the sign of a number"
   ]
  },
  {
   "cell_type": "code",
   "execution_count": 55,
   "id": "55959f2b-e133-4baa-9a85-bf3663ac5517",
   "metadata": {},
   "outputs": [],
   "source": [
    "a = 5\n",
    "b = -a\n"
   ]
  },
  {
   "cell_type": "code",
   "execution_count": 56,
   "id": "254fb929-b948-47d7-8817-b7235aa71b68",
   "metadata": {},
   "outputs": [
    {
     "data": {
      "text/plain": [
       "-5"
      ]
     },
     "execution_count": 56,
     "metadata": {},
     "output_type": "execute_result"
    }
   ],
   "source": [
    "b"
   ]
  },
  {
   "cell_type": "code",
   "execution_count": 57,
   "id": "0ee46ff7-7018-4bee-8c83-40bd977fb60b",
   "metadata": {},
   "outputs": [],
   "source": [
    "b = ~a"
   ]
  },
  {
   "cell_type": "code",
   "execution_count": 58,
   "id": "43aac0d3-5ddb-4347-be33-da3ff505383b",
   "metadata": {},
   "outputs": [
    {
     "data": {
      "text/plain": [
       "-6"
      ]
     },
     "execution_count": 58,
     "metadata": {},
     "output_type": "execute_result"
    }
   ],
   "source": [
    "b"
   ]
  },
  {
   "cell_type": "code",
   "execution_count": 61,
   "id": "d689d04d-13ec-46de-93ff-b929dc171485",
   "metadata": {},
   "outputs": [
    {
     "name": "stdout",
     "output_type": "stream",
     "text": [
      "False\n"
     ]
    }
   ],
   "source": [
    "b = not a\n",
    "print(b)"
   ]
  },
  {
   "cell_type": "code",
   "execution_count": 62,
   "id": "08199cb7-6dd2-40e6-9dec-5c041c69538a",
   "metadata": {},
   "outputs": [
    {
     "name": "stdout",
     "output_type": "stream",
     "text": [
      "5\n"
     ]
    }
   ],
   "source": [
    "b = +a\n",
    "print(b)"
   ]
  },
  {
   "cell_type": "markdown",
   "id": "61043c7f-fe58-454a-9ae2-30b143d3ded2",
   "metadata": {},
   "source": [
    "8. Use the ternary operator to assign values based on conditions"
   ]
  },
  {
   "cell_type": "code",
   "execution_count": 63,
   "id": "29eed4e5-c6fb-4de4-922c-708b3035f127",
   "metadata": {},
   "outputs": [
    {
     "name": "stdout",
     "output_type": "stream",
     "text": [
      "Hot\n"
     ]
    }
   ],
   "source": [
    "temperature = 30\n",
    "weather_report = \"Hot\"if temperature>25 else \"Cold\"\n",
    "print(weather_report)\n"
   ]
  },
  {
   "cell_type": "code",
   "execution_count": null,
   "id": "ab0c0b25-f0c8-4ffc-93c1-ab6b23bc3919",
   "metadata": {},
   "outputs": [],
   "source": []
  }
 ],
 "metadata": {
  "kernelspec": {
   "display_name": "Python 3 (ipykernel)",
   "language": "python",
   "name": "python3"
  },
  "language_info": {
   "codemirror_mode": {
    "name": "ipython",
    "version": 3
   },
   "file_extension": ".py",
   "mimetype": "text/x-python",
   "name": "python",
   "nbconvert_exporter": "python",
   "pygments_lexer": "ipython3",
   "version": "3.10.8"
  }
 },
 "nbformat": 4,
 "nbformat_minor": 5
}
